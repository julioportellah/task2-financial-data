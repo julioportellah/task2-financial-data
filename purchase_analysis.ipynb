{
 "cells": [
  {
   "cell_type": "code",
   "execution_count": 1,
   "source": [
    "import pandas as pd\r\n",
    "import seaborn as sns\r\n",
    "import matplotlib.pyplot as plt\r\n",
    "import numpy as np"
   ],
   "outputs": [],
   "metadata": {}
  },
  {
   "cell_type": "markdown",
   "source": [
    "Given that this problem involves multiple dataset, the process is divided in the following\r\n",
    "\r\n",
    "**1.** Micro EDA- An Exploratory Data Analysis of just one dataset\r\n",
    "\r\n",
    "**2.** Micro clustering\r\n",
    "\r\n",
    "**3.** Data unification\r\n",
    "\r\n",
    "**4.** Global clusters\r\n",
    "\r\n",
    "**5.** Forecasting\r\n",
    "\r\n",
    "**6.** Bonus problem"
   ],
   "metadata": {}
  },
  {
   "cell_type": "markdown",
   "source": [
    "# Micro EDA"
   ],
   "metadata": {}
  },
  {
   "cell_type": "code",
   "execution_count": 2,
   "source": [
    "datasets = ['2015_01_purchases.xls','2015_02_purchases.xls','2015_03_purchases.xls','2015_05_purchases.xls','2015_06_purchases.xls','2015_07_purchases.xls',\r\n",
    "'2015_08_purchases.xls','2015_09_purchases.xls','2015_10_purchases.xls','2015_11_purchases.xls','2015_12_purchases.xls','2016_01_purchases.xls','2016_02_purchases.xls',\r\n",
    "'2016_03_purchases.xls','2016_04_purchases.xls','2016_05_purchases.xls','2016_06_purchases.xls','2016_07_purchases.xls','2016_08_purchases.xls','2016_09_purchases.xls',\r\n",
    "'2016_10_purchases.xls','2016_11_purchases.xls','2016_12_purchases.xls','2017_01_purchases.xls','2017_02_purchases.xls','2017_03_purchases.xls','2017_04_purchases.xls',\r\n",
    "'2017_05_purchases.xls','2017_06_purchases.xls','2017_07_purchases.xls','2017_08_purchases.xls','2017_09_purchases.xls','2017_10_purchases.xls','2017_11_purchases.xls',\r\n",
    "'2018_01_purchases.xls']"
   ],
   "outputs": [],
   "metadata": {}
  },
  {
   "cell_type": "markdown",
   "source": [
    "Let's analyze just one month"
   ],
   "metadata": {}
  },
  {
   "cell_type": "code",
   "execution_count": 3,
   "source": [
    "data_2017_01 = pd.read_excel('./data/2017_01_purchases.xls')\r\n",
    "data_2017_01.head()"
   ],
   "outputs": [
    {
     "output_type": "execute_result",
     "data": {
      "text/plain": [
       "  TRANS DATE TRANS VAT DESC  ORIGINAL GROSS AMT ORIGINAL CUR  \\\n",
       "0 2017-01-03             VR               72.61          GBP   \n",
       "1 2017-01-24             VR               85.51          GBP   \n",
       "2 2017-02-01             VR               10.09          GBP   \n",
       "3 2017-01-04             VR               20.00          GBP   \n",
       "4 2017-01-05             VR               50.00          GBP   \n",
       "\n",
       "   BILLING GROSS AMT BILLING CUR CODE       MERCHANT NAME       CARD NUMBER  \\\n",
       "0              72.61              GBP     shell kings 587  ************5770   \n",
       "1              85.51              GBP  shell fiveways 387  ************1147   \n",
       "2              10.09              GBP  shell fiveways 387  ************1147   \n",
       "3              20.00              GBP  mibsons service st  ************5804   \n",
       "4              50.00              GBP  malthurst petroleu  ************5804   \n",
       "\n",
       "  TRANS CAC CODE 1 TRANS CAC DESC 1 TRANS CAC CODE 2         TRANS CAC DESC 2  \\\n",
       "0             K020     Vehicle Fuel            RV12N     African-Caribbean DC   \n",
       "1             K020     Vehicle Fuel            RV1K2  Elders Group - Ladywood   \n",
       "2             K020     Vehicle Fuel            RV1K2  Elders Group - Ladywood   \n",
       "3             K020     Vehicle Fuel            RVA12     Enablement Tyburn Rd   \n",
       "4             K020     Vehicle Fuel            RVA12     Enablement Tyburn Rd   \n",
       "\n",
       "  TRANS CAC CODE 3          Directorate  \n",
       "0              A00  Adult & Communities  \n",
       "1              A00  Adult & Communities  \n",
       "2              A00  Adult & Communities  \n",
       "3              A00  Adult & Communities  \n",
       "4              A00  Adult & Communities  "
      ],
      "text/html": [
       "<div>\n",
       "<style scoped>\n",
       "    .dataframe tbody tr th:only-of-type {\n",
       "        vertical-align: middle;\n",
       "    }\n",
       "\n",
       "    .dataframe tbody tr th {\n",
       "        vertical-align: top;\n",
       "    }\n",
       "\n",
       "    .dataframe thead th {\n",
       "        text-align: right;\n",
       "    }\n",
       "</style>\n",
       "<table border=\"1\" class=\"dataframe\">\n",
       "  <thead>\n",
       "    <tr style=\"text-align: right;\">\n",
       "      <th></th>\n",
       "      <th>TRANS DATE</th>\n",
       "      <th>TRANS VAT DESC</th>\n",
       "      <th>ORIGINAL GROSS AMT</th>\n",
       "      <th>ORIGINAL CUR</th>\n",
       "      <th>BILLING GROSS AMT</th>\n",
       "      <th>BILLING CUR CODE</th>\n",
       "      <th>MERCHANT NAME</th>\n",
       "      <th>CARD NUMBER</th>\n",
       "      <th>TRANS CAC CODE 1</th>\n",
       "      <th>TRANS CAC DESC 1</th>\n",
       "      <th>TRANS CAC CODE 2</th>\n",
       "      <th>TRANS CAC DESC 2</th>\n",
       "      <th>TRANS CAC CODE 3</th>\n",
       "      <th>Directorate</th>\n",
       "    </tr>\n",
       "  </thead>\n",
       "  <tbody>\n",
       "    <tr>\n",
       "      <th>0</th>\n",
       "      <td>2017-01-03</td>\n",
       "      <td>VR</td>\n",
       "      <td>72.61</td>\n",
       "      <td>GBP</td>\n",
       "      <td>72.61</td>\n",
       "      <td>GBP</td>\n",
       "      <td>shell kings 587</td>\n",
       "      <td>************5770</td>\n",
       "      <td>K020</td>\n",
       "      <td>Vehicle Fuel</td>\n",
       "      <td>RV12N</td>\n",
       "      <td>African-Caribbean DC</td>\n",
       "      <td>A00</td>\n",
       "      <td>Adult &amp; Communities</td>\n",
       "    </tr>\n",
       "    <tr>\n",
       "      <th>1</th>\n",
       "      <td>2017-01-24</td>\n",
       "      <td>VR</td>\n",
       "      <td>85.51</td>\n",
       "      <td>GBP</td>\n",
       "      <td>85.51</td>\n",
       "      <td>GBP</td>\n",
       "      <td>shell fiveways 387</td>\n",
       "      <td>************1147</td>\n",
       "      <td>K020</td>\n",
       "      <td>Vehicle Fuel</td>\n",
       "      <td>RV1K2</td>\n",
       "      <td>Elders Group - Ladywood</td>\n",
       "      <td>A00</td>\n",
       "      <td>Adult &amp; Communities</td>\n",
       "    </tr>\n",
       "    <tr>\n",
       "      <th>2</th>\n",
       "      <td>2017-02-01</td>\n",
       "      <td>VR</td>\n",
       "      <td>10.09</td>\n",
       "      <td>GBP</td>\n",
       "      <td>10.09</td>\n",
       "      <td>GBP</td>\n",
       "      <td>shell fiveways 387</td>\n",
       "      <td>************1147</td>\n",
       "      <td>K020</td>\n",
       "      <td>Vehicle Fuel</td>\n",
       "      <td>RV1K2</td>\n",
       "      <td>Elders Group - Ladywood</td>\n",
       "      <td>A00</td>\n",
       "      <td>Adult &amp; Communities</td>\n",
       "    </tr>\n",
       "    <tr>\n",
       "      <th>3</th>\n",
       "      <td>2017-01-04</td>\n",
       "      <td>VR</td>\n",
       "      <td>20.00</td>\n",
       "      <td>GBP</td>\n",
       "      <td>20.00</td>\n",
       "      <td>GBP</td>\n",
       "      <td>mibsons service st</td>\n",
       "      <td>************5804</td>\n",
       "      <td>K020</td>\n",
       "      <td>Vehicle Fuel</td>\n",
       "      <td>RVA12</td>\n",
       "      <td>Enablement Tyburn Rd</td>\n",
       "      <td>A00</td>\n",
       "      <td>Adult &amp; Communities</td>\n",
       "    </tr>\n",
       "    <tr>\n",
       "      <th>4</th>\n",
       "      <td>2017-01-05</td>\n",
       "      <td>VR</td>\n",
       "      <td>50.00</td>\n",
       "      <td>GBP</td>\n",
       "      <td>50.00</td>\n",
       "      <td>GBP</td>\n",
       "      <td>malthurst petroleu</td>\n",
       "      <td>************5804</td>\n",
       "      <td>K020</td>\n",
       "      <td>Vehicle Fuel</td>\n",
       "      <td>RVA12</td>\n",
       "      <td>Enablement Tyburn Rd</td>\n",
       "      <td>A00</td>\n",
       "      <td>Adult &amp; Communities</td>\n",
       "    </tr>\n",
       "  </tbody>\n",
       "</table>\n",
       "</div>"
      ]
     },
     "metadata": {},
     "execution_count": 3
    }
   ],
   "metadata": {}
  },
  {
   "cell_type": "code",
   "execution_count": 4,
   "source": [
    "data_2017_01['card_number'] = data_2017_01['CARD NUMBER'].apply(lambda x: x.replace('*', ''))\r\n",
    "data_2017_01['card_number'] = pd.to_numeric(data_2017_01['card_number'])\r\n",
    "data_2017_01['Directorate'] = data_2017_01['Directorate'].apply(lambda x: x.replace(' ', '')).str.lower()"
   ],
   "outputs": [],
   "metadata": {}
  },
  {
   "cell_type": "code",
   "execution_count": 5,
   "source": [
    "data_2017_01.columns"
   ],
   "outputs": [
    {
     "output_type": "execute_result",
     "data": {
      "text/plain": [
       "Index(['TRANS DATE', 'TRANS VAT DESC', 'ORIGINAL GROSS AMT', 'ORIGINAL CUR',\n",
       "       'BILLING GROSS AMT', 'BILLING CUR CODE', 'MERCHANT NAME', 'CARD NUMBER',\n",
       "       'TRANS CAC CODE 1', 'TRANS CAC DESC 1', 'TRANS CAC CODE 2',\n",
       "       'TRANS CAC DESC 2', 'TRANS CAC CODE 3', 'Directorate', 'card_number'],\n",
       "      dtype='object')"
      ]
     },
     "metadata": {},
     "execution_count": 5
    }
   ],
   "metadata": {}
  },
  {
   "cell_type": "code",
   "execution_count": 6,
   "source": [
    "data_2017_01['Directorate'].drop_duplicates()"
   ],
   "outputs": [
    {
     "output_type": "execute_result",
     "data": {
      "text/plain": [
       "0        adult&communities\n",
       "247                 adults\n",
       "252     corporateresources\n",
       "496                  cyp&f\n",
       "998           cyp&fschools\n",
       "4007           development\n",
       "4066         localservices\n",
       "Name: Directorate, dtype: object"
      ]
     },
     "metadata": {},
     "execution_count": 6
    }
   ],
   "metadata": {}
  },
  {
   "cell_type": "markdown",
   "source": [
    "With a quick EDA, we can see that there are some anomalies. Although simple for the detection of anomalies, we can do a better process for the detection of the anomalies"
   ],
   "metadata": {}
  },
  {
   "cell_type": "code",
   "execution_count": 7,
   "source": [
    "for transactions in data_2017_01['TRANS CAC DESC 1'].drop_duplicates()[:4]:\r\n",
    "    fig, ax = plt.subplots()\r\n",
    "    sns.histplot(data_2017_01.loc[data_2017_01['TRANS CAC DESC 1'] == transactions],x='BILLING GROSS AMT').set_title(transactions)\r\n",
    "    plt.show()"
   ],
   "outputs": [
    {
     "output_type": "display_data",
     "data": {
      "text/plain": [
       "<Figure size 432x288 with 1 Axes>"
      ],
      "image/png": "[encoded data removed]"
     },
     "metadata": {
      "needs_background": "light"
     }
    },
    {
     "output_type": "display_data",
     "data": {
      "text/plain": [
       "<Figure size 432x288 with 1 Axes>"
      ],
      "image/png": "[encoded data removed]"
     },
     "metadata": {
      "needs_background": "light"
     }
    },
    {
     "output_type": "display_data",
     "data": {
      "text/plain": [
       "<Figure size 432x288 with 1 Axes>"
      ],
      "image/png": "[encoded data removed]"
     },
     "metadata": {
      "needs_background": "light"
     }
    },
    {
     "output_type": "display_data",
     "data": {
      "text/plain": [
       "<Figure size 432x288 with 1 Axes>"
      ],
      "image/png": "[encoded data removed]"
     },
     "metadata": {
      "needs_background": "light"
     }
    }
   ],
   "metadata": {}
  },
  {
   "cell_type": "markdown",
   "source": [
    "Based on these histograms we found some anomalies, specially in the supplies and services and equip operational. Let's plot it in clusters so we can have a better  visualization"
   ],
   "metadata": {}
  },
  {
   "cell_type": "code",
   "execution_count": 8,
   "source": [
    "#plt.scatter(data_2017_01['card_number'], data_2017_01['BILLING GROSS AMT'], alpha=.2, label='TRANS CAC DESC 1')\r\n",
    "sns.scatterplot(data=data_2017_01, x=\"card_number\", y=\"BILLING GROSS AMT\", hue=\"Directorate\").set_title('Last card number vs transactions amount')\r\n",
    "plt.show()"
   ],
   "outputs": [
    {
     "output_type": "display_data",
     "data": {
      "text/plain": [
       "<Figure size 432x288 with 1 Axes>"
      ],
      "image/png": "[encoded data removed]"
     },
     "metadata": {
      "needs_background": "light"
     }
    }
   ],
   "metadata": {}
  },
  {
   "cell_type": "markdown",
   "source": [
    "More useful than he other and we can say that corporate resources has at least two anomalies while local services has only one in the eyesight, but more can be done. First, let's join the data"
   ],
   "metadata": {}
  },
  {
   "cell_type": "markdown",
   "source": [
    "Since this is a 1D data with all the rest of the features are factors or datetimes, instead of clusters we can use IQR outlier list and the three sigma rule"
   ],
   "metadata": {}
  },
  {
   "cell_type": "code",
   "execution_count": 9,
   "source": [
    "def outlier_treatment(datacolumn):\r\n",
    "    sorted(datacolumn)\r\n",
    "    Q1,Q3 = np.percentile(datacolumn , [25,75])\r\n",
    "    IQR = Q3 - Q1\r\n",
    "    lower_range = Q1 - (1.5 * IQR)\r\n",
    "    upper_range = Q3 + (1.5 * IQR)\r\n",
    "    return lower_range,upper_range"
   ],
   "outputs": [],
   "metadata": {}
  },
  {
   "cell_type": "code",
   "execution_count": 10,
   "source": [
    "global_lowerbound,global_upperbound = outlier_treatment(data_2017_01['BILLING GROSS AMT'])"
   ],
   "outputs": [],
   "metadata": {}
  },
  {
   "cell_type": "code",
   "execution_count": 11,
   "source": [
    "data_2017_01['Outlier'] = (data_2017_01['BILLING GROSS AMT']>global_upperbound) | (data_2017_01['BILLING GROSS AMT']< global_lowerbound)"
   ],
   "outputs": [],
   "metadata": {}
  },
  {
   "cell_type": "code",
   "execution_count": 12,
   "source": [
    "sns.scatterplot(data=data_2017_01, x=\"card_number\", y=\"BILLING GROSS AMT\", hue=\"Outlier\").set_title('Last card number vs transactions amount')\r\n",
    "plt.show()\r\n",
    "print('The outliers are the {:.2f}% of the cases'.format(data_2017_01['Outlier'].sum()/data_2017_01['Outlier'].shape[0]*100))"
   ],
   "outputs": [
    {
     "output_type": "display_data",
     "data": {
      "text/plain": [
       "<Figure size 432x288 with 1 Axes>"
      ],
      "image/png": "[encoded data removed]"
     },
     "metadata": {
      "needs_background": "light"
     }
    },
    {
     "output_type": "stream",
     "name": "stdout",
     "text": [
      "The outliers are the 11.50% of the cases\n"
     ]
    }
   ],
   "metadata": {}
  },
  {
   "cell_type": "markdown",
   "source": [
    "Now, some areas areas have different scales than others, thus if I buy a car even its first monthly pay can be considered as an outlier if I group it with the groceries shopping costs. To reduce the number of outliers let's make a local outlier detection by directorate and type of purchase"
   ],
   "metadata": {}
  },
  {
   "cell_type": "code",
   "execution_count": 13,
   "source": [
    "def get_local_outliers(row, df, column):\r\n",
    "    try:\r\n",
    "        lower, upper = outlier_treatment(df.loc[df[column]==row[column]]['ORIGINAL GROSS AMT'])\r\n",
    "        return (row['ORIGINAL GROSS AMT']>upper) | (row['ORIGINAL GROSS AMT']< lower)\r\n",
    "    except:\r\n",
    "        #print(row)\r\n",
    "        return False"
   ],
   "outputs": [],
   "metadata": {}
  },
  {
   "cell_type": "code",
   "execution_count": 14,
   "source": [
    "data_2017_01['IsDirectorateOutlier']=data_2017_01.apply(lambda x: get_local_outliers(x,data_2017_01,'Directorate'),axis=1)"
   ],
   "outputs": [],
   "metadata": {}
  },
  {
   "cell_type": "code",
   "execution_count": 15,
   "source": [
    "sns.scatterplot(data=data_2017_01, x=\"card_number\", y=\"ORIGINAL GROSS AMT\", hue=\"IsDirectorateOutlier\").set_title('Last card number vs transactions amount')\r\n",
    "plt.show()\r\n",
    "print('The outliers are the {:.2f}% of the cases'.format(data_2017_01['IsDirectorateOutlier'].sum()/data_2017_01.shape[0]*100))"
   ],
   "outputs": [
    {
     "output_type": "display_data",
     "data": {
      "text/plain": [
       "<Figure size 432x288 with 1 Axes>"
      ],
      "image/png": "[encoded data removed]"
     },
     "metadata": {
      "needs_background": "light"
     }
    },
    {
     "output_type": "stream",
     "name": "stdout",
     "text": [
      "The outliers are the 10.92% of the cases\n"
     ]
    }
   ],
   "metadata": {}
  },
  {
   "cell_type": "markdown",
   "source": [
    "It is a .58% of difference, let's try with a more refined category"
   ],
   "metadata": {}
  },
  {
   "cell_type": "code",
   "execution_count": 16,
   "source": [
    "data_2017_01['IsAreaOutlier']=data_2017_01.apply(lambda x: get_local_outliers(x,data_2017_01,'TRANS CAC DESC 1'),axis=1)"
   ],
   "outputs": [],
   "metadata": {}
  },
  {
   "cell_type": "code",
   "execution_count": 17,
   "source": [
    "sns.scatterplot(data=data_2017_01, x=\"card_number\", y=\"ORIGINAL GROSS AMT\", hue=\"IsAreaOutlier\").set_title('Last card number vs transactions amount')\r\n",
    "plt.show()\r\n",
    "print('The outliers are the {:.2f}% of the cases'.format(data_2017_01['IsAreaOutlier'].sum()/data_2017_01.shape[0]*100))"
   ],
   "outputs": [
    {
     "output_type": "display_data",
     "data": {
      "text/plain": [
       "<Figure size 432x288 with 1 Axes>"
      ],
      "image/png": "[encoded data removed]"
     },
     "metadata": {
      "needs_background": "light"
     }
    },
    {
     "output_type": "stream",
     "name": "stdout",
     "text": [
      "The outliers are the 7.81% of the cases\n"
     ]
    }
   ],
   "metadata": {}
  },
  {
   "cell_type": "markdown",
   "source": [
    "Now this make more sense. 7.81 is still a high number yet it is a more accurate way of classifying outliers"
   ],
   "metadata": {}
  },
  {
   "cell_type": "code",
   "execution_count": 18,
   "source": [
    "data_2017_01['IsCardOutlier']=data_2017_01.apply(lambda x: get_local_outliers(x,data_2017_01,'card_number'),axis=1)"
   ],
   "outputs": [],
   "metadata": {}
  },
  {
   "cell_type": "markdown",
   "source": [
    "Finally, as an experiment, we will go granular and go for the card number"
   ],
   "metadata": {}
  },
  {
   "cell_type": "code",
   "execution_count": 19,
   "source": [
    "sns.scatterplot(data=data_2017_01, x=\"card_number\", y=\"ORIGINAL GROSS AMT\", hue=\"IsCardOutlier\").set_title('Last card number vs transactions amount')\r\n",
    "plt.show()\r\n",
    "print('The outliers are the {:.2f}% of the cases'.format(data_2017_01['IsCardOutlier'].sum()/data_2017_01.shape[0]*100))"
   ],
   "outputs": [
    {
     "output_type": "display_data",
     "data": {
      "text/plain": [
       "<Figure size 432x288 with 1 Axes>"
      ],
      "image/png": "[encoded data removed]"
     },
     "metadata": {
      "needs_background": "light"
     }
    },
    {
     "output_type": "stream",
     "name": "stdout",
     "text": [
      "The outliers are the 9.18% of the cases\n"
     ]
    }
   ],
   "metadata": {}
  },
  {
   "cell_type": "markdown",
   "source": [
    "For the global analysis we are going to work with the area analysis since it is much better at getting outliers."
   ],
   "metadata": {}
  },
  {
   "cell_type": "markdown",
   "source": [
    "## Data unification"
   ],
   "metadata": {}
  },
  {
   "cell_type": "markdown",
   "source": [
    "Let's see the columns"
   ],
   "metadata": {}
  },
  {
   "cell_type": "code",
   "execution_count": 20,
   "source": [
    "data_columns = ['TRANS DATE','ORIGINAL GROSS AMT','CARD NUMBER','TRANS CAC DESC 1','Directorate']\r\n",
    "data_consolidated = pd.DataFrame(columns = data_columns)\r\n",
    "#Critical columns \r\n",
    "for element in datasets:\r\n",
    "    data = pd.read_excel('./data/'+element)\r\n",
    "    data_consolidated = data_consolidated.append(data[data_columns])\r\n",
    "    pass\r\n",
    "print(data_columns)"
   ],
   "outputs": [
    {
     "output_type": "stream",
     "name": "stdout",
     "text": [
      "['TRANS DATE', 'ORIGINAL GROSS AMT', 'CARD NUMBER', 'TRANS CAC DESC 1', 'Directorate']\n"
     ]
    }
   ],
   "metadata": {}
  },
  {
   "cell_type": "code",
   "execution_count": 21,
   "source": [
    "data_consolidated.shape"
   ],
   "outputs": [
    {
     "output_type": "execute_result",
     "data": {
      "text/plain": [
       "(151442, 5)"
      ]
     },
     "metadata": {},
     "execution_count": 21
    }
   ],
   "metadata": {}
  },
  {
   "cell_type": "code",
   "execution_count": 22,
   "source": [
    "data_consolidated = data_consolidated.dropna()\r\n",
    "data_consolidated['Directorate'] = data_consolidated['Directorate'].apply(lambda x: x.replace(' ', '')).str.lower()"
   ],
   "outputs": [],
   "metadata": {}
  },
  {
   "cell_type": "code",
   "execution_count": 23,
   "source": [
    "data_consolidated['Directorate'].replace({\"adults&communities\":\"adult&communities\"},inplace=True)\r\n",
    "data_consolidated['Directorate'].replace({\"adults&comms\":\"adult&communities\"},inplace=True)\r\n",
    "data_consolidated['Directorate'].replace({\"cyo&f\":\"cyp&f\"},inplace=True)"
   ],
   "outputs": [],
   "metadata": {}
  },
  {
   "cell_type": "code",
   "execution_count": 24,
   "source": [
    "\r\n",
    "data_consolidated['card_number'] = data_consolidated['CARD NUMBER'].apply(lambda x: x.replace('*', ''))\r\n",
    "data_consolidated['card_number'] = pd.to_numeric(data_consolidated['card_number'])"
   ],
   "outputs": [],
   "metadata": {}
  },
  {
   "cell_type": "code",
   "execution_count": 25,
   "source": [
    "data_consolidated['Directorate'].drop_duplicates()"
   ],
   "outputs": [
    {
     "output_type": "execute_result",
     "data": {
      "text/plain": [
       "0              adult&communities\n",
       "249           corporateresources\n",
       "509                        cyp&f\n",
       "1127                cyp&fschools\n",
       "3785                 development\n",
       "3941               localservices\n",
       "209         corporateprocurement\n",
       "441                       adults\n",
       "0       adultsocialcareandhealth\n",
       "Name: Directorate, dtype: object"
      ]
     },
     "metadata": {},
     "execution_count": 25
    }
   ],
   "metadata": {}
  },
  {
   "cell_type": "markdown",
   "source": [
    "Once the data is consolidated let's do the the anomaly detection"
   ],
   "metadata": {}
  },
  {
   "cell_type": "code",
   "execution_count": 37,
   "source": [
    "def get_upper_outliers(row, df, column):\r\n",
    "    lower, upper = outlier_treatment(df.loc[df[column]==row[column]]['ORIGINAL GROSS AMT'])\r\n",
    "    return upper\r\n",
    "\r\n",
    "def get_lower_outliers(row, df, column):\r\n",
    "    lower, upper = outlier_treatment(df.loc[df[column]==row[column]]['ORIGINAL GROSS AMT'])\r\n",
    "    return lower"
   ],
   "outputs": [],
   "metadata": {}
  },
  {
   "cell_type": "code",
   "execution_count": 42,
   "source": [
    "types_purchases = data_consolidated['TRANS CAC DESC 1'].drop_duplicates().values\r\n",
    "#Creating a dataframe for as a pseudo dictionary\r\n",
    "df_areas_outliers = pd.DataFrame(columns = ['TRANS CAC DESC 1'], data = types_purchases)\r\n",
    "df_areas_outliers['upper_outlier']=df_areas_outliers.apply(lambda x: get_upper_outliers(x,data_consolidated,'TRANS CAC DESC 1'),axis=1)\r\n",
    "df_areas_outliers['lower_outlier']=df_areas_outliers.apply(lambda x: get_lower_outliers(x,data_consolidated,'TRANS CAC DESC 1'),axis=1)\r\n"
   ],
   "outputs": [],
   "metadata": {}
  },
  {
   "cell_type": "code",
   "execution_count": 61,
   "source": [
    "df_areas_outliers.head()\r\n",
    "df_areas_outliers.sort_values(by=['upper_outlier'])"
   ],
   "outputs": [
    {
     "output_type": "execute_result",
     "data": {
      "text/plain": [
       "         TRANS CAC DESC 1  upper_outlier  lower_outlier\n",
       "101  Relocn&RecruitIncent        4.35000        4.35000\n",
       "140                   Oil       11.98000       11.98000\n",
       "141            Audit Fees       13.00000       13.00000\n",
       "125       HRM CO Building       16.57000       16.57000\n",
       "13    Vehicle OthrunCosts       19.80000       -5.80000\n",
       "..                    ...            ...            ...\n",
       "54         Disinfestation     2068.42875    -1207.58125\n",
       "81    Transport Insurance     2681.86125    -1340.84875\n",
       "57      SchGovBrds Clerks     3113.53125    -1827.11875\n",
       "107   Other Third Parties     3851.36250    -1781.93750\n",
       "18        Legal Fee Other     5062.50000    -2957.50000\n",
       "\n",
       "[142 rows x 3 columns]"
      ],
      "text/html": [
       "<div>\n",
       "<style scoped>\n",
       "    .dataframe tbody tr th:only-of-type {\n",
       "        vertical-align: middle;\n",
       "    }\n",
       "\n",
       "    .dataframe tbody tr th {\n",
       "        vertical-align: top;\n",
       "    }\n",
       "\n",
       "    .dataframe thead th {\n",
       "        text-align: right;\n",
       "    }\n",
       "</style>\n",
       "<table border=\"1\" class=\"dataframe\">\n",
       "  <thead>\n",
       "    <tr style=\"text-align: right;\">\n",
       "      <th></th>\n",
       "      <th>TRANS CAC DESC 1</th>\n",
       "      <th>upper_outlier</th>\n",
       "      <th>lower_outlier</th>\n",
       "    </tr>\n",
       "  </thead>\n",
       "  <tbody>\n",
       "    <tr>\n",
       "      <th>101</th>\n",
       "      <td>Relocn&amp;RecruitIncent</td>\n",
       "      <td>4.35000</td>\n",
       "      <td>4.35000</td>\n",
       "    </tr>\n",
       "    <tr>\n",
       "      <th>140</th>\n",
       "      <td>Oil</td>\n",
       "      <td>11.98000</td>\n",
       "      <td>11.98000</td>\n",
       "    </tr>\n",
       "    <tr>\n",
       "      <th>141</th>\n",
       "      <td>Audit Fees</td>\n",
       "      <td>13.00000</td>\n",
       "      <td>13.00000</td>\n",
       "    </tr>\n",
       "    <tr>\n",
       "      <th>125</th>\n",
       "      <td>HRM CO Building</td>\n",
       "      <td>16.57000</td>\n",
       "      <td>16.57000</td>\n",
       "    </tr>\n",
       "    <tr>\n",
       "      <th>13</th>\n",
       "      <td>Vehicle OthrunCosts</td>\n",
       "      <td>19.80000</td>\n",
       "      <td>-5.80000</td>\n",
       "    </tr>\n",
       "    <tr>\n",
       "      <th>...</th>\n",
       "      <td>...</td>\n",
       "      <td>...</td>\n",
       "      <td>...</td>\n",
       "    </tr>\n",
       "    <tr>\n",
       "      <th>54</th>\n",
       "      <td>Disinfestation</td>\n",
       "      <td>2068.42875</td>\n",
       "      <td>-1207.58125</td>\n",
       "    </tr>\n",
       "    <tr>\n",
       "      <th>81</th>\n",
       "      <td>Transport Insurance</td>\n",
       "      <td>2681.86125</td>\n",
       "      <td>-1340.84875</td>\n",
       "    </tr>\n",
       "    <tr>\n",
       "      <th>57</th>\n",
       "      <td>SchGovBrds Clerks</td>\n",
       "      <td>3113.53125</td>\n",
       "      <td>-1827.11875</td>\n",
       "    </tr>\n",
       "    <tr>\n",
       "      <th>107</th>\n",
       "      <td>Other Third Parties</td>\n",
       "      <td>3851.36250</td>\n",
       "      <td>-1781.93750</td>\n",
       "    </tr>\n",
       "    <tr>\n",
       "      <th>18</th>\n",
       "      <td>Legal Fee Other</td>\n",
       "      <td>5062.50000</td>\n",
       "      <td>-2957.50000</td>\n",
       "    </tr>\n",
       "  </tbody>\n",
       "</table>\n",
       "<p>142 rows × 3 columns</p>\n",
       "</div>"
      ]
     },
     "metadata": {},
     "execution_count": 61
    }
   ],
   "metadata": {}
  },
  {
   "cell_type": "code",
   "execution_count": 72,
   "source": [
    "def get_local_outliers_area(row):\r\n",
    "    try:\r\n",
    "        return (row['ORIGINAL GROSS AMT']>=row['upper_outlier']) | (row['ORIGINAL GROSS AMT']<= row['lower_outlier'])\r\n",
    "    except Exception as e:\r\n",
    "        print(row)\r\n",
    "        print(e)\r\n",
    "        return False"
   ],
   "outputs": [],
   "metadata": {}
  },
  {
   "cell_type": "code",
   "execution_count": 68,
   "source": [
    "data_consolidated_test = data_consolidated.copy()\r\n",
    "data_consolidated_test = data_consolidated_test.head()\r\n",
    "data_consolidated_test['IsAreaOutlier']=data_consolidated_test.apply(lambda x: get_local_outliers_area(x,df_areas_outliers),axis=1) \r\n",
    "#data_consolidated_test = data_consolidated_test.merge(df_areas_outliers, left='TRANS CAC DESC 1', rsuffix='TRANS CAC DESC 1')\r\n",
    "pd.merge(left=data_consolidated_test,right=df_areas_outliers, on='TRANS CAC DESC 1', how='left')\r\n",
    "#data_consolidated_test"
   ],
   "outputs": [
    {
     "output_type": "execute_result",
     "data": {
      "text/plain": [
       "  TRANS DATE  ORIGINAL GROSS AMT       CARD NUMBER TRANS CAC DESC 1  \\\n",
       "0 2015-01-08               52.84  ************5770     Vehicle Fuel   \n",
       "1 2015-01-21               10.00  ************5770     Vehicle Fuel   \n",
       "2 2015-01-22               20.01  ************5770     Vehicle Fuel   \n",
       "3 2015-01-23               57.96  ************5770     Vehicle Fuel   \n",
       "4 2015-01-07               60.50  ************8143     Vehicle Fuel   \n",
       "\n",
       "         Directorate  card_number  IsAreaOutlier  upper_outlier  lower_outlier  \n",
       "0  adult&communities         5770          False         110.55           2.47  \n",
       "1  adult&communities         5770          False         110.55           2.47  \n",
       "2  adult&communities         5770          False         110.55           2.47  \n",
       "3  adult&communities         5770          False         110.55           2.47  \n",
       "4  adult&communities         8143          False         110.55           2.47  "
      ],
      "text/html": [
       "<div>\n",
       "<style scoped>\n",
       "    .dataframe tbody tr th:only-of-type {\n",
       "        vertical-align: middle;\n",
       "    }\n",
       "\n",
       "    .dataframe tbody tr th {\n",
       "        vertical-align: top;\n",
       "    }\n",
       "\n",
       "    .dataframe thead th {\n",
       "        text-align: right;\n",
       "    }\n",
       "</style>\n",
       "<table border=\"1\" class=\"dataframe\">\n",
       "  <thead>\n",
       "    <tr style=\"text-align: right;\">\n",
       "      <th></th>\n",
       "      <th>TRANS DATE</th>\n",
       "      <th>ORIGINAL GROSS AMT</th>\n",
       "      <th>CARD NUMBER</th>\n",
       "      <th>TRANS CAC DESC 1</th>\n",
       "      <th>Directorate</th>\n",
       "      <th>card_number</th>\n",
       "      <th>IsAreaOutlier</th>\n",
       "      <th>upper_outlier</th>\n",
       "      <th>lower_outlier</th>\n",
       "    </tr>\n",
       "  </thead>\n",
       "  <tbody>\n",
       "    <tr>\n",
       "      <th>0</th>\n",
       "      <td>2015-01-08</td>\n",
       "      <td>52.84</td>\n",
       "      <td>************5770</td>\n",
       "      <td>Vehicle Fuel</td>\n",
       "      <td>adult&amp;communities</td>\n",
       "      <td>5770</td>\n",
       "      <td>False</td>\n",
       "      <td>110.55</td>\n",
       "      <td>2.47</td>\n",
       "    </tr>\n",
       "    <tr>\n",
       "      <th>1</th>\n",
       "      <td>2015-01-21</td>\n",
       "      <td>10.00</td>\n",
       "      <td>************5770</td>\n",
       "      <td>Vehicle Fuel</td>\n",
       "      <td>adult&amp;communities</td>\n",
       "      <td>5770</td>\n",
       "      <td>False</td>\n",
       "      <td>110.55</td>\n",
       "      <td>2.47</td>\n",
       "    </tr>\n",
       "    <tr>\n",
       "      <th>2</th>\n",
       "      <td>2015-01-22</td>\n",
       "      <td>20.01</td>\n",
       "      <td>************5770</td>\n",
       "      <td>Vehicle Fuel</td>\n",
       "      <td>adult&amp;communities</td>\n",
       "      <td>5770</td>\n",
       "      <td>False</td>\n",
       "      <td>110.55</td>\n",
       "      <td>2.47</td>\n",
       "    </tr>\n",
       "    <tr>\n",
       "      <th>3</th>\n",
       "      <td>2015-01-23</td>\n",
       "      <td>57.96</td>\n",
       "      <td>************5770</td>\n",
       "      <td>Vehicle Fuel</td>\n",
       "      <td>adult&amp;communities</td>\n",
       "      <td>5770</td>\n",
       "      <td>False</td>\n",
       "      <td>110.55</td>\n",
       "      <td>2.47</td>\n",
       "    </tr>\n",
       "    <tr>\n",
       "      <th>4</th>\n",
       "      <td>2015-01-07</td>\n",
       "      <td>60.50</td>\n",
       "      <td>************8143</td>\n",
       "      <td>Vehicle Fuel</td>\n",
       "      <td>adult&amp;communities</td>\n",
       "      <td>8143</td>\n",
       "      <td>False</td>\n",
       "      <td>110.55</td>\n",
       "      <td>2.47</td>\n",
       "    </tr>\n",
       "  </tbody>\n",
       "</table>\n",
       "</div>"
      ]
     },
     "metadata": {},
     "execution_count": 68
    }
   ],
   "metadata": {}
  },
  {
   "cell_type": "code",
   "execution_count": 71,
   "source": [
    "data_consolidated_with_bounds = pd.merge(left=data_consolidated,right=df_areas_outliers, on='TRANS CAC DESC 1', how='left')"
   ],
   "outputs": [],
   "metadata": {}
  },
  {
   "cell_type": "code",
   "execution_count": 73,
   "source": [
    "data_consolidated_with_bounds['IsOutlier'] = (data_consolidated_with_bounds['ORIGINAL GROSS AMT']>data_consolidated_with_bounds['upper_outlier']) | (data_consolidated_with_bounds['ORIGINAL GROSS AMT']<data_consolidated_with_bounds['lower_outlier'])"
   ],
   "outputs": [],
   "metadata": {}
  },
  {
   "cell_type": "code",
   "execution_count": 75,
   "source": [
    "data_consolidated_with_bounds.head()"
   ],
   "outputs": [
    {
     "output_type": "execute_result",
     "data": {
      "text/plain": [
       "  TRANS DATE  ORIGINAL GROSS AMT       CARD NUMBER TRANS CAC DESC 1  \\\n",
       "0 2015-01-08               52.84  ************5770     Vehicle Fuel   \n",
       "1 2015-01-21               10.00  ************5770     Vehicle Fuel   \n",
       "2 2015-01-22               20.01  ************5770     Vehicle Fuel   \n",
       "3 2015-01-23               57.96  ************5770     Vehicle Fuel   \n",
       "4 2015-01-07               60.50  ************8143     Vehicle Fuel   \n",
       "\n",
       "         Directorate  card_number  upper_outlier  lower_outlier  IsOutlier  \n",
       "0  adult&communities         5770         110.55           2.47      False  \n",
       "1  adult&communities         5770         110.55           2.47      False  \n",
       "2  adult&communities         5770         110.55           2.47      False  \n",
       "3  adult&communities         5770         110.55           2.47      False  \n",
       "4  adult&communities         8143         110.55           2.47      False  "
      ],
      "text/html": [
       "<div>\n",
       "<style scoped>\n",
       "    .dataframe tbody tr th:only-of-type {\n",
       "        vertical-align: middle;\n",
       "    }\n",
       "\n",
       "    .dataframe tbody tr th {\n",
       "        vertical-align: top;\n",
       "    }\n",
       "\n",
       "    .dataframe thead th {\n",
       "        text-align: right;\n",
       "    }\n",
       "</style>\n",
       "<table border=\"1\" class=\"dataframe\">\n",
       "  <thead>\n",
       "    <tr style=\"text-align: right;\">\n",
       "      <th></th>\n",
       "      <th>TRANS DATE</th>\n",
       "      <th>ORIGINAL GROSS AMT</th>\n",
       "      <th>CARD NUMBER</th>\n",
       "      <th>TRANS CAC DESC 1</th>\n",
       "      <th>Directorate</th>\n",
       "      <th>card_number</th>\n",
       "      <th>upper_outlier</th>\n",
       "      <th>lower_outlier</th>\n",
       "      <th>IsOutlier</th>\n",
       "    </tr>\n",
       "  </thead>\n",
       "  <tbody>\n",
       "    <tr>\n",
       "      <th>0</th>\n",
       "      <td>2015-01-08</td>\n",
       "      <td>52.84</td>\n",
       "      <td>************5770</td>\n",
       "      <td>Vehicle Fuel</td>\n",
       "      <td>adult&amp;communities</td>\n",
       "      <td>5770</td>\n",
       "      <td>110.55</td>\n",
       "      <td>2.47</td>\n",
       "      <td>False</td>\n",
       "    </tr>\n",
       "    <tr>\n",
       "      <th>1</th>\n",
       "      <td>2015-01-21</td>\n",
       "      <td>10.00</td>\n",
       "      <td>************5770</td>\n",
       "      <td>Vehicle Fuel</td>\n",
       "      <td>adult&amp;communities</td>\n",
       "      <td>5770</td>\n",
       "      <td>110.55</td>\n",
       "      <td>2.47</td>\n",
       "      <td>False</td>\n",
       "    </tr>\n",
       "    <tr>\n",
       "      <th>2</th>\n",
       "      <td>2015-01-22</td>\n",
       "      <td>20.01</td>\n",
       "      <td>************5770</td>\n",
       "      <td>Vehicle Fuel</td>\n",
       "      <td>adult&amp;communities</td>\n",
       "      <td>5770</td>\n",
       "      <td>110.55</td>\n",
       "      <td>2.47</td>\n",
       "      <td>False</td>\n",
       "    </tr>\n",
       "    <tr>\n",
       "      <th>3</th>\n",
       "      <td>2015-01-23</td>\n",
       "      <td>57.96</td>\n",
       "      <td>************5770</td>\n",
       "      <td>Vehicle Fuel</td>\n",
       "      <td>adult&amp;communities</td>\n",
       "      <td>5770</td>\n",
       "      <td>110.55</td>\n",
       "      <td>2.47</td>\n",
       "      <td>False</td>\n",
       "    </tr>\n",
       "    <tr>\n",
       "      <th>4</th>\n",
       "      <td>2015-01-07</td>\n",
       "      <td>60.50</td>\n",
       "      <td>************8143</td>\n",
       "      <td>Vehicle Fuel</td>\n",
       "      <td>adult&amp;communities</td>\n",
       "      <td>8143</td>\n",
       "      <td>110.55</td>\n",
       "      <td>2.47</td>\n",
       "      <td>False</td>\n",
       "    </tr>\n",
       "  </tbody>\n",
       "</table>\n",
       "</div>"
      ]
     },
     "metadata": {},
     "execution_count": 75
    }
   ],
   "metadata": {}
  },
  {
   "cell_type": "code",
   "execution_count": 76,
   "source": [
    "sns.scatterplot(data=data_consolidated_with_bounds, x=\"card_number\", y=\"ORIGINAL GROSS AMT\", hue=\"IsOutlier\").set_title('Last card number vs transactions amount')\r\n",
    "plt.show()"
   ],
   "outputs": [
    {
     "output_type": "display_data",
     "data": {
      "text/plain": [
       "<Figure size 432x288 with 1 Axes>"
      ],
      "image/png": "[encoded data removed]"
     },
     "metadata": {
      "needs_background": "light"
     }
    }
   ],
   "metadata": {}
  },
  {
   "cell_type": "markdown",
   "source": [
    "## Forecasting"
   ],
   "metadata": {}
  },
  {
   "cell_type": "code",
   "execution_count": 17,
   "source": [
    "X=data_2017_01[['ORIGINAL GROSS AMT','card_number']].values\r\n",
    "#X\r\n",
    "#X_train = np.r_[X + 2, X - 2]\r\n",
    "#X_train.shape"
   ],
   "outputs": [],
   "metadata": {}
  },
  {
   "cell_type": "code",
   "execution_count": 18,
   "source": [
    "from sklearn import svm\r\n",
    "X_test = 0.3 * np.random.randn(100, 2)\r\n",
    "X_test.shape"
   ],
   "outputs": [
    {
     "output_type": "execute_result",
     "data": {
      "text/plain": [
       "(100, 2)"
      ]
     },
     "metadata": {},
     "execution_count": 18
    }
   ],
   "metadata": {}
  },
  {
   "cell_type": "code",
   "execution_count": 19,
   "source": [
    "clf = svm.OneClassSVM(nu=0.1, kernel=\"rbf\", gamma=0.1)\r\n",
    "clf.fit(X)"
   ],
   "outputs": [
    {
     "output_type": "execute_result",
     "data": {
      "text/plain": [
       "OneClassSVM(gamma=0.1, nu=0.1)"
      ]
     },
     "metadata": {},
     "execution_count": 19
    }
   ],
   "metadata": {}
  },
  {
   "cell_type": "code",
   "execution_count": 20,
   "source": [
    "X_test = data_consolidated[['ORIGINAL GROSS AMT','card_number']]\r\n",
    "y_pred_test = clf.predict(X_test)"
   ],
   "outputs": [],
   "metadata": {}
  },
  {
   "cell_type": "code",
   "execution_count": 21,
   "source": [
    "y_pred_test"
   ],
   "outputs": [
    {
     "output_type": "execute_result",
     "data": {
      "text/plain": [
       "array([-1, -1, -1, ..., -1,  1, -1], dtype=int64)"
      ]
     },
     "metadata": {},
     "execution_count": 21
    }
   ],
   "metadata": {}
  },
  {
   "cell_type": "code",
   "execution_count": 22,
   "source": [
    "data_consolidated['predicted']=y_pred_test\r\n",
    "data_consolidated['predicted'].drop_duplicates()"
   ],
   "outputs": [
    {
     "output_type": "execute_result",
     "data": {
      "text/plain": [
       "0    -1\n",
       "20    1\n",
       "Name: predicted, dtype: int64"
      ]
     },
     "metadata": {},
     "execution_count": 22
    }
   ],
   "metadata": {}
  },
  {
   "cell_type": "code",
   "execution_count": 23,
   "source": [
    "sns.scatterplot(data=data_consolidated, x=\"card_number\", y=\"ORIGINAL GROSS AMT\", hue=\"predicted\").set_title('Last card number vs transactions amount')\r\n",
    "plt.show()"
   ],
   "outputs": [
    {
     "output_type": "display_data",
     "data": {
      "text/plain": [
       "<Figure size 432x288 with 1 Axes>"
      ],
      "image/png": "[encoded data removed]"
     },
     "metadata": {
      "needs_background": "light"
     }
    }
   ],
   "metadata": {}
  },
  {
   "cell_type": "code",
   "execution_count": 143,
   "source": [
    "(data_consolidated['Directorate'].value_counts()/data_consolidated['Directorate'].count())*100"
   ],
   "outputs": [
    {
     "output_type": "execute_result",
     "data": {
      "text/plain": [
       "CYP&F SCHOOLS                   47.726669\n",
       "Local Services                  23.288035\n",
       "CYP&F                           12.740870\n",
       "Corporate Resources              6.710505\n",
       "Adult & Communities              6.708515\n",
       "DEVELOPMENT                      1.753769\n",
       "Adult Social Care and Health     0.374244\n",
       "CYP&F                            0.242197\n",
       "CYP&F Schools                    0.227598\n",
       "CYP&F                            0.084271\n",
       "CYO&F                            0.061710\n",
       "Development                      0.025879\n",
       "Local services                   0.018579\n",
       "Adults                           0.015925\n",
       "Adults & Comms                   0.011944\n",
       "Adults & Communities             0.006636\n",
       "Corporate Procurement            0.001991\n",
       "                                 0.000664\n",
       "Name: Directorate, dtype: float64"
      ]
     },
     "metadata": {},
     "execution_count": 143
    }
   ],
   "metadata": {}
  },
  {
   "cell_type": "code",
   "execution_count": 72,
   "source": [
    "from sklearn.svm import OneClassSVM\r\n",
    "X = np.array([[0], [0.44], [0.45], [0.46], [1]])\r\n",
    "clf = OneClassSVM(gamma='auto').fit(X)\r\n",
    "clf.predict(X)\r\n",
    "clf.score_samples(X)"
   ],
   "outputs": [
    {
     "output_type": "execute_result",
     "data": {
      "text/plain": [
       "array([1.77987316, 2.05479873, 2.05560497, 2.05615569, 1.73328509])"
      ]
     },
     "metadata": {},
     "execution_count": 72
    }
   ],
   "metadata": {}
  },
  {
   "cell_type": "code",
   "execution_count": 83,
   "source": [
    "np.array([[0], [0.44], [0.45], [0.46], [1]])"
   ],
   "outputs": [
    {
     "output_type": "execute_result",
     "data": {
      "text/plain": [
       "array([[0.  ],\n",
       "       [0.44],\n",
       "       [0.45],\n",
       "       [0.46],\n",
       "       [1.  ]])"
      ]
     },
     "metadata": {},
     "execution_count": 83
    }
   ],
   "metadata": {}
  },
  {
   "cell_type": "code",
   "execution_count": 84,
   "source": [
    "data_2017_01['ORIGINAL GROSS AMT'].values.reshape(-1, 1)"
   ],
   "outputs": [
    {
     "output_type": "execute_result",
     "data": {
      "text/plain": [
       "array([[72.61],\n",
       "       [85.51],\n",
       "       [10.09],\n",
       "       ...,\n",
       "       [17.98],\n",
       "       [20.69],\n",
       "       [26.99]])"
      ]
     },
     "metadata": {},
     "execution_count": 84
    }
   ],
   "metadata": {}
  },
  {
   "cell_type": "code",
   "execution_count": null,
   "source": [
    "sns.scatterplot(data=data_consolidated, x=\"card_number\", y=\"ORIGINAL GROSS AMT\", hue=\"Directorate\").set_title('Last card number vs transactions amount')\r\n",
    "plt.show()"
   ],
   "outputs": [],
   "metadata": {}
  },
  {
   "cell_type": "code",
   "execution_count": 85,
   "source": [
    "X = data_2017_01['ORIGINAL GROSS AMT'].values.reshape(-1, 1)\r\n",
    "clf = OneClassSVM(gamma='auto').fit(X)\r\n",
    "clf.predict(X)\r\n",
    "clf.score_samples(X)"
   ],
   "outputs": [
    {
     "output_type": "execute_result",
     "data": {
      "text/plain": [
       "array([23.26173615, 22.91460022, 23.27045982, ..., 23.27027016,\n",
       "       23.27030632, 23.27025284])"
      ]
     },
     "metadata": {},
     "execution_count": 85
    }
   ],
   "metadata": {}
  },
  {
   "cell_type": "code",
   "execution_count": null,
   "source": [
    "data_2017_01.loc[data_2017_01['ORIGINAL GROSS AMT']!= data_2017_01['BILLING GROSS AMT']]"
   ],
   "outputs": [],
   "metadata": {}
  },
  {
   "cell_type": "code",
   "execution_count": 22,
   "source": [
    "fig, ax = plt.subplots()\r\n",
    "sns.distplot(data_2017_01.loc[data_2017_01['TRANS CAC DESC 1'] == 'Vehicle Fuel']['BILLING GROSS AMT'].values, rug=True, hist=False, ax=ax, color ='r')\r\n",
    "plt.show()"
   ],
   "outputs": [
    {
     "output_type": "stream",
     "name": "stderr",
     "text": [
      "d:\\Globant\\Task2\\.venv\\lib\\site-packages\\seaborn\\distributions.py:2557: FutureWarning: `distplot` is a deprecated function and will be removed in a future version. Please adapt your code to use either `displot` (a figure-level function with similar flexibility) or `kdeplot` (an axes-level function for kernel density plots).\n",
      "  warnings.warn(msg, FutureWarning)\n",
      "d:\\Globant\\Task2\\.venv\\lib\\site-packages\\seaborn\\distributions.py:2056: FutureWarning: The `axis` variable is no longer used and will be removed. Instead, assign variables directly to `x` or `y`.\n",
      "  warnings.warn(msg, FutureWarning)\n"
     ]
    },
    {
     "output_type": "display_data",
     "data": {
      "text/plain": [
       "<Figure size 432x288 with 1 Axes>"
      ],
      "image/png": "[encoded data removed]"
     },
     "metadata": {
      "needs_background": "light"
     }
    }
   ],
   "metadata": {}
  },
  {
   "cell_type": "code",
   "execution_count": null,
   "source": [
    "\r\n",
    "sns.distplot(data_2017_01.loc[data_2017_01['TRANS CAC DESC 1'] == 'Supplies & Sev Mic']['BILLING GROSS AMT'].values, rug=True, hist=False, ax=ax)"
   ],
   "outputs": [],
   "metadata": {}
  },
  {
   "cell_type": "code",
   "execution_count": 120,
   "source": [
    "for i in range(2015,2019):\r\n",
    "    for j in range(1,13):\r\n",
    "        print('{}_{}_purchases.xls'.format(i,str(j).zfill(2)))"
   ],
   "outputs": [
    {
     "output_type": "stream",
     "name": "stdout",
     "text": [
      "2015_01_purchases.xls\n",
      "2015_02_purchases.xls\n",
      "2015_03_purchases.xls\n",
      "2015_04_purchases.xls\n",
      "2015_05_purchases.xls\n",
      "2015_06_purchases.xls\n",
      "2015_07_purchases.xls\n",
      "2015_08_purchases.xls\n",
      "2015_09_purchases.xls\n",
      "2015_10_purchases.xls\n",
      "2015_11_purchases.xls\n",
      "2015_12_purchases.xls\n",
      "2016_01_purchases.xls\n",
      "2016_02_purchases.xls\n",
      "2016_03_purchases.xls\n",
      "2016_04_purchases.xls\n",
      "2016_05_purchases.xls\n",
      "2016_06_purchases.xls\n",
      "2016_07_purchases.xls\n",
      "2016_08_purchases.xls\n",
      "2016_09_purchases.xls\n",
      "2016_10_purchases.xls\n",
      "2016_11_purchases.xls\n",
      "2016_12_purchases.xls\n",
      "2017_01_purchases.xls\n",
      "2017_02_purchases.xls\n",
      "2017_03_purchases.xls\n",
      "2017_04_purchases.xls\n",
      "2017_05_purchases.xls\n",
      "2017_06_purchases.xls\n",
      "2017_07_purchases.xls\n",
      "2017_08_purchases.xls\n",
      "2017_09_purchases.xls\n",
      "2017_10_purchases.xls\n",
      "2017_11_purchases.xls\n",
      "2017_12_purchases.xls\n",
      "2018_01_purchases.xls\n",
      "2018_02_purchases.xls\n",
      "2018_03_purchases.xls\n",
      "2018_04_purchases.xls\n",
      "2018_05_purchases.xls\n",
      "2018_06_purchases.xls\n",
      "2018_07_purchases.xls\n",
      "2018_08_purchases.xls\n",
      "2018_09_purchases.xls\n",
      "2018_10_purchases.xls\n",
      "2018_11_purchases.xls\n",
      "2018_12_purchases.xls\n"
     ]
    }
   ],
   "metadata": {}
  }
 ],
 "metadata": {
  "orig_nbformat": 4,
  "language_info": {
   "name": "python",
   "version": "3.6.6",
   "mimetype": "text/x-python",
   "codemirror_mode": {
    "name": "ipython",
    "version": 3
   },
   "pygments_lexer": "ipython3",
   "nbconvert_exporter": "python",
   "file_extension": ".py"
  },
  "kernelspec": {
   "name": "python3",
   "display_name": "Python 3.6.6 64-bit ('.venv': venv)"
  },
  "interpreter": {
   "hash": "f4b4b18ba0ce5c6a4eab0e5a5a0b39234ee6a26b7cf469fdd16826fe7e5f187d"
  }
 },
 "nbformat": 4,
 "nbformat_minor": 2
}